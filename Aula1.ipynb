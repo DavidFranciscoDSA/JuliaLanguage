{
 "cells": [
  {
   "cell_type": "markdown",
   "id": "0b85d9c6",
   "metadata": {},
   "source": [
    "# Linguagem Julia"
   ]
  },
  {
   "cell_type": "code",
   "execution_count": 1,
   "id": "740bdc7f",
   "metadata": {},
   "outputs": [
    {
     "name": "stdout",
     "output_type": "stream",
     "text": [
      "search: \u001b[0m\u001b[1mp\u001b[22m\u001b[0m\u001b[1mr\u001b[22m\u001b[0m\u001b[1mi\u001b[22m\u001b[0m\u001b[1mn\u001b[22m\u001b[0m\u001b[1mt\u001b[22m\u001b[0m\u001b[1ml\u001b[22m\u001b[0m\u001b[1mn\u001b[22m \u001b[0m\u001b[1mp\u001b[22m\u001b[0m\u001b[1mr\u001b[22m\u001b[0m\u001b[1mi\u001b[22m\u001b[0m\u001b[1mn\u001b[22m\u001b[0m\u001b[1mt\u001b[22msty\u001b[0m\u001b[1ml\u001b[22med \u001b[0m\u001b[1mp\u001b[22m\u001b[0m\u001b[1mr\u001b[22m\u001b[0m\u001b[1mi\u001b[22m\u001b[0m\u001b[1mn\u001b[22m\u001b[0m\u001b[1mt\u001b[22m s\u001b[0m\u001b[1mp\u001b[22m\u001b[0m\u001b[1mr\u001b[22m\u001b[0m\u001b[1mi\u001b[22m\u001b[0m\u001b[1mn\u001b[22m\u001b[0m\u001b[1mt\u001b[22m is\u001b[0m\u001b[1mp\u001b[22m\u001b[0m\u001b[1mr\u001b[22m\u001b[0m\u001b[1mi\u001b[22m\u001b[0m\u001b[1mn\u001b[22m\u001b[0m\u001b[1mt\u001b[22m\n",
      "\n"
     ]
    },
    {
     "data": {
      "text/latex": [
       "\\begin{verbatim}\n",
       "println([io::IO], xs...)\n",
       "\\end{verbatim}\n",
       "Print (using \\href{@ref}{\\texttt{print}}) \\texttt{xs} to \\texttt{io} followed by a newline. If \\texttt{io} is not supplied, prints to the default output stream \\href{@ref}{\\texttt{stdout}}.\n",
       "\n",
       "See also \\href{@ref}{\\texttt{printstyled}} to add colors etc.\n",
       "\n",
       "\\section{Examples}\n",
       "\\begin{verbatim}\n",
       "julia> println(\"Hello, world\")\n",
       "Hello, world\n",
       "\n",
       "julia> io = IOBuffer();\n",
       "\n",
       "julia> println(io, \"Hello\", ',', \" world.\")\n",
       "\n",
       "julia> String(take!(io))\n",
       "\"Hello, world.\\n\"\n",
       "\\end{verbatim}\n"
      ],
      "text/markdown": [
       "```\n",
       "println([io::IO], xs...)\n",
       "```\n",
       "\n",
       "Print (using [`print`](@ref)) `xs` to `io` followed by a newline. If `io` is not supplied, prints to the default output stream [`stdout`](@ref).\n",
       "\n",
       "See also [`printstyled`](@ref) to add colors etc.\n",
       "\n",
       "# Examples\n",
       "\n",
       "```jldoctest\n",
       "julia> println(\"Hello, world\")\n",
       "Hello, world\n",
       "\n",
       "julia> io = IOBuffer();\n",
       "\n",
       "julia> println(io, \"Hello\", ',', \" world.\")\n",
       "\n",
       "julia> String(take!(io))\n",
       "\"Hello, world.\\n\"\n",
       "```\n"
      ],
      "text/plain": [
       "\u001b[36m  println([io::IO], xs...)\u001b[39m\n",
       "\n",
       "  Print (using \u001b[36mprint\u001b[39m) \u001b[36mxs\u001b[39m to \u001b[36mio\u001b[39m followed by a newline. If \u001b[36mio\u001b[39m is not supplied,\n",
       "  prints to the default output stream \u001b[36mstdout\u001b[39m.\n",
       "\n",
       "  See also \u001b[36mprintstyled\u001b[39m to add colors etc.\n",
       "\n",
       "\u001b[1m  Examples\u001b[22m\n",
       "\u001b[1m  ≡≡≡≡≡≡≡≡\u001b[22m\n",
       "\n",
       "\u001b[36m  julia> println(\"Hello, world\")\u001b[39m\n",
       "\u001b[36m  Hello, world\u001b[39m\n",
       "\u001b[36m  \u001b[39m\n",
       "\u001b[36m  julia> io = IOBuffer();\u001b[39m\n",
       "\u001b[36m  \u001b[39m\n",
       "\u001b[36m  julia> println(io, \"Hello\", ',', \" world.\")\u001b[39m\n",
       "\u001b[36m  \u001b[39m\n",
       "\u001b[36m  julia> String(take!(io))\u001b[39m\n",
       "\u001b[36m  \"Hello, world.\\n\"\u001b[39m"
      ]
     },
     "execution_count": 1,
     "metadata": {},
     "output_type": "execute_result"
    }
   ],
   "source": [
    "?println"
   ]
  },
  {
   "cell_type": "code",
   "execution_count": 13,
   "id": "b339dd03",
   "metadata": {},
   "outputs": [
    {
     "data": {
      "text/plain": [
       "v\"1.10.6\""
      ]
     },
     "execution_count": 13,
     "metadata": {},
     "output_type": "execute_result"
    }
   ],
   "source": [
    "VERSION"
   ]
  },
  {
   "cell_type": "code",
   "execution_count": 8,
   "id": "8ebdc869",
   "metadata": {},
   "outputs": [
    {
     "name": "stdout",
     "output_type": "stream",
     "text": [
      "C:\\Users\\david\\Desktop\\Formacao_Engenheiro_inteligencia_artificial\\8-DS_e_ML_com_Julia\\JuliaLanguage\r\n"
     ]
    }
   ],
   "source": [
    "# ; → executa uma função direto do sistema operacional\n",
    ";pwd"
   ]
  },
  {
   "cell_type": "markdown",
   "id": "fcf8b380",
   "metadata": {},
   "source": [
    "# Variáveis"
   ]
  },
  {
   "cell_type": "code",
   "execution_count": 20,
   "id": "1ae20bd1",
   "metadata": {},
   "outputs": [
    {
     "name": "stdout",
     "output_type": "stream",
     "text": [
      "Introdução Linguagem JULIA\n",
      "David Francisco\n",
      "String\n",
      "40 anos\n",
      "Int64\n",
      "84.4\n",
      "Float64\n"
     ]
    }
   ],
   "source": [
    "frase = \"Introdução Linguagem JULIA\"\n",
    "nome = \"David Francisco\"\n",
    "idade = 40\n",
    "peso = 84.4\n",
    "\n",
    "println(frase)\n",
    "println(nome)\n",
    "println(typeof(nome))\n",
    "println(idade, \" anos\")\n",
    "println(typeof(idade))\n",
    "println(peso)\n",
    "println(typeof(peso))"
   ]
  },
  {
   "cell_type": "markdown",
   "id": "9040f70a",
   "metadata": {},
   "source": [
    "# Operações Aritmeticas"
   ]
  },
  {
   "cell_type": "code",
   "execution_count": 23,
   "id": "2b12b1f0",
   "metadata": {},
   "outputs": [
    {
     "name": "stdout",
     "output_type": "stream",
     "text": [
      "A soma de 10 e 5 é 15\n",
      "A subtração de 10 por 5 é 5\n",
      "A multiplicação de 10 por 5 é 50\n",
      "A divisão de 10 por 5 é 2.0\n",
      "A potencia de 10 elevado 5 é 100000\n",
      "O modulo de 10 por 5 é 0\n"
     ]
    }
   ],
   "source": [
    "#= \n",
    "Comentarios de \n",
    "varias linhas inicia\n",
    "com hastag+igual\n",
    "e termina com igual+hastag\n",
    "=#\n",
    "# Comentario simples - apenas hastag\n",
    "n1 = 10\n",
    "n2 = 5\n",
    "soma = n1+n2\n",
    "sub = n1-n2\n",
    "mult = n1*n2\n",
    "div = n1/n2\n",
    "pot = n1^n2\n",
    "modulo = n1%n2\n",
    "println(\"A soma de \", n1, \" e \" ,n2, \" é \", soma)\n",
    "println(\"A subtração de \", n1, \" por \" ,n2, \" é \", sub)\n",
    "println(\"A multiplicação de \", n1, \" por \" ,n2, \" é \", mult)\n",
    "println(\"A divisão de \", n1, \" por \" ,n2, \" é \", div)\n",
    "println(\"A potencia de \", n1, \" elevado \" ,n2, \" é \", pot)\n",
    "println(\"O modulo de \", n1, \" por \" ,n2, \" é \", modulo)"
   ]
  },
  {
   "cell_type": "markdown",
   "id": "56ed0bb4",
   "metadata": {},
   "source": [
    "# String\n",
    "- \"String\"\n",
    "- 'a' → para apenas um caracter\n",
    "- \"\"\"Usado para destaque de \"palavras\" na frase\"\"\""
   ]
  },
  {
   "cell_type": "code",
   "execution_count": 26,
   "id": "cc0a54ee",
   "metadata": {},
   "outputs": [
    {
     "name": "stdout",
     "output_type": "stream",
     "text": [
      "String\n",
      "Char\n",
      "String\n"
     ]
    }
   ],
   "source": [
    "println(typeof(\"String\"))\n",
    "println(typeof('a' ))\n",
    "println(typeof( \"\"\"Usado para destaque de \"palavras\" na frase\"\"\"))"
   ]
  },
  {
   "cell_type": "markdown",
   "id": "9a6fc279",
   "metadata": {},
   "source": [
    "# Interpolação\n",
    "\n",
    "- usa $variavel dentro de aspas duplas"
   ]
  },
  {
   "cell_type": "code",
   "execution_count": 29,
   "id": "291b5835",
   "metadata": {},
   "outputs": [
    {
     "name": "stdout",
     "output_type": "stream",
     "text": [
      "Olá, Sr David Francisco, 45 anos, após a avaliação seu peso ideal é 77 kilos, você está com 84.4, precisa baixar 7.400000000000006"
     ]
    }
   ],
   "source": [
    "nome = \"David Francisco\"\n",
    "idade = 45\n",
    "peso = 84.4\n",
    "\n",
    "print(\"Olá, Sr $nome, $idade anos, após a avaliação seu peso ideal é 77 kilos, você está com $peso, precisa baixar $(peso-77)\")"
   ]
  },
  {
   "cell_type": "markdown",
   "id": "00ed84b9",
   "metadata": {},
   "source": [
    "# Concatenação\n",
    "\n",
    "- Separa com virgula → println(\"A soma de \", n1, \" e \" ,n2, \" é \", soma)"
   ]
  },
  {
   "cell_type": "code",
   "execution_count": null,
   "id": "e71254d9",
   "metadata": {},
   "outputs": [],
   "source": [
    "n1 = 10\n",
    "n2 = 5\n",
    "soma = n1+n2\n",
    "sub = n1-n2\n",
    "mult = n1*n2\n",
    "div = n1/n2\n",
    "pot = n1^n2\n",
    "modulo = n1%n2\n",
    "println(\"A soma de \", n1, \" e \" ,n2, \" é \", soma)\n",
    "println(\"A subtração de \", n1, \" por \" ,n2, \" é \", sub)\n",
    "println(\"A multiplicação de \", n1, \" por \" ,n2, \" é \", mult)\n",
    "println(\"A divisão de \", n1, \" por \" ,n2, \" é \", div)\n",
    "println(\"A potencia de \", n1, \" elevado \" ,n2, \" é \", pot)\n",
    "println(\"O modulo de \", n1, \" por \" ,n2, \" é \", modulo)"
   ]
  },
  {
   "cell_type": "markdown",
   "id": "6b63c6bf",
   "metadata": {},
   "source": [
    "# Estruturas de dados\n",
    "\n",
    "### Tuplas - index em julia começa com 1\n",
    "### São imutáveis"
   ]
  },
  {
   "cell_type": "code",
   "execution_count": 1,
   "id": "1f215f24",
   "metadata": {},
   "outputs": [
    {
     "data": {
      "text/plain": [
       "(\"Red\", \"Green\", \"Blue\")"
      ]
     },
     "execution_count": 1,
     "metadata": {},
     "output_type": "execute_result"
    }
   ],
   "source": [
    "cores = (\"Red\",\"Green\",\"Blue\")"
   ]
  },
  {
   "cell_type": "code",
   "execution_count": 2,
   "id": "f5db2919",
   "metadata": {},
   "outputs": [
    {
     "data": {
      "text/plain": [
       "\"Red\""
      ]
     },
     "execution_count": 2,
     "metadata": {},
     "output_type": "execute_result"
    }
   ],
   "source": [
    "cores[1]"
   ]
  },
  {
   "cell_type": "markdown",
   "id": "452b6636",
   "metadata": {},
   "source": [
    "#### Tuplas nomeadas"
   ]
  },
  {
   "cell_type": "code",
   "execution_count": 3,
   "id": "7f940a10",
   "metadata": {},
   "outputs": [
    {
     "data": {
      "text/plain": [
       "(fusca = \"1.5 gasolina 1979\", audi = \"2.0 Flex 2019\", onix = \"1.0 Flex 2015\")"
      ]
     },
     "execution_count": 3,
     "metadata": {},
     "output_type": "execute_result"
    }
   ],
   "source": [
    "carros = (fusca = \"1.5 gasolina 1979\", audi = \"2.0 Flex 2019\", onix = \"1.0 Flex 2015\")"
   ]
  },
  {
   "cell_type": "code",
   "execution_count": 6,
   "id": "70835b7f",
   "metadata": {},
   "outputs": [
    {
     "data": {
      "text/plain": [
       "\"1.0 Flex 2015\""
      ]
     },
     "execution_count": 6,
     "metadata": {},
     "output_type": "execute_result"
    }
   ],
   "source": [
    "carros.onix"
   ]
  },
  {
   "cell_type": "code",
   "execution_count": 5,
   "id": "b03b32cf",
   "metadata": {},
   "outputs": [
    {
     "data": {
      "text/plain": [
       "\"1.5 gasolina 1979\""
      ]
     },
     "execution_count": 5,
     "metadata": {},
     "output_type": "execute_result"
    }
   ],
   "source": [
    "carros[1]"
   ]
  },
  {
   "cell_type": "markdown",
   "id": "4c0470a1",
   "metadata": {},
   "source": [
    "# Dicionários"
   ]
  },
  {
   "cell_type": "code",
   "execution_count": 9,
   "id": "ac623450",
   "metadata": {},
   "outputs": [
    {
     "data": {
      "text/plain": [
       "Dict{String, String} with 3 entries:\n",
       "  \"David\"    => \"17 99107-2558\"\n",
       "  \"Fernanda\" => \"17 99108-5552\"\n",
       "  \"Fulano\"   => \"11 1111-1111\""
      ]
     },
     "execution_count": 9,
     "metadata": {},
     "output_type": "execute_result"
    }
   ],
   "source": [
    "contatos = Dict(\"David\" => \"17 99107-2558\", \"Fernanda\" => \"17 99108-5552\", \"Fulano\" => \"11 1111-1111\")\n",
    "contatos"
   ]
  },
  {
   "cell_type": "code",
   "execution_count": 10,
   "id": "780d08a1",
   "metadata": {},
   "outputs": [
    {
     "data": {
      "text/plain": [
       "Dict{String, String} with 4 entries:\n",
       "  \"Leticia\"  => \"17 99120-5898\"\n",
       "  \"David\"    => \"17 99107-2558\"\n",
       "  \"Fernanda\" => \"17 99108-5552\"\n",
       "  \"Fulano\"   => \"11 1111-1111\""
      ]
     },
     "execution_count": 10,
     "metadata": {},
     "output_type": "execute_result"
    }
   ],
   "source": [
    "contatos[\"Leticia\"]=\"17 99120-5898\"\n",
    "contatos"
   ]
  },
  {
   "cell_type": "code",
   "execution_count": 12,
   "id": "b6f6e2a6",
   "metadata": {},
   "outputs": [
    {
     "data": {
      "text/plain": [
       "Dict{String, String} with 3 entries:\n",
       "  \"Leticia\"  => \"17 99120-5898\"\n",
       "  \"David\"    => \"17 99107-2558\"\n",
       "  \"Fernanda\" => \"17 99108-5552\""
      ]
     },
     "execution_count": 12,
     "metadata": {},
     "output_type": "execute_result"
    }
   ],
   "source": [
    "pop!(contatos, \"Fulano\")\n",
    "contatos"
   ]
  },
  {
   "cell_type": "markdown",
   "id": "b9a2f8c6",
   "metadata": {},
   "source": [
    "# Arrays - Listas"
   ]
  },
  {
   "cell_type": "code",
   "execution_count": 13,
   "id": "e61459cc",
   "metadata": {},
   "outputs": [
    {
     "data": {
      "text/plain": [
       "5-element Vector{String}:\n",
       " \"func1\"\n",
       " \"func2\"\n",
       " \"func3\"\n",
       " \"func4\"\n",
       " \"func5\""
      ]
     },
     "execution_count": 13,
     "metadata": {},
     "output_type": "execute_result"
    }
   ],
   "source": [
    "funcionarios = [\"func1\",\"func2\",\"func3\",\"func4\",\"func5\"]\n",
    "funcionarios"
   ]
  },
  {
   "cell_type": "code",
   "execution_count": 14,
   "id": "4a2dc7fe",
   "metadata": {},
   "outputs": [
    {
     "data": {
      "text/plain": [
       "\"Fernanda\""
      ]
     },
     "execution_count": 14,
     "metadata": {},
     "output_type": "execute_result"
    }
   ],
   "source": [
    "funcionarios[5] = \"Fernanda\""
   ]
  },
  {
   "cell_type": "code",
   "execution_count": 15,
   "id": "3415eff3",
   "metadata": {},
   "outputs": [
    {
     "data": {
      "text/plain": [
       "6-element Vector{String}:\n",
       " \"func1\"\n",
       " \"func2\"\n",
       " \"func3\"\n",
       " \"func4\"\n",
       " \"Fernanda\"\n",
       " \"David\""
      ]
     },
     "execution_count": 15,
     "metadata": {},
     "output_type": "execute_result"
    }
   ],
   "source": [
    "push!(funcionarios, \"David\")\n",
    "funcionarios"
   ]
  },
  {
   "cell_type": "code",
   "execution_count": 16,
   "id": "2c469aaf",
   "metadata": {},
   "outputs": [
    {
     "data": {
      "text/plain": [
       "6-element Vector{Int64}:\n",
       " 1600\n",
       " 1600\n",
       " 1600\n",
       " 1600\n",
       " 3000\n",
       " 3000"
      ]
     },
     "execution_count": 16,
     "metadata": {},
     "output_type": "execute_result"
    }
   ],
   "source": [
    "salarios = [1600,1600,1600,1600,3000,3000]"
   ]
  },
  {
   "cell_type": "code",
   "execution_count": 17,
   "id": "7c98adc8",
   "metadata": {},
   "outputs": [
    {
     "data": {
      "text/plain": [
       "2-element Vector{Vector}:\n",
       " [\"func1\", \"func2\", \"func3\", \"func4\", \"Fernanda\", \"David\"]\n",
       " [1600, 1600, 1600, 1600, 3000, 3000]"
      ]
     },
     "execution_count": 17,
     "metadata": {},
     "output_type": "execute_result"
    }
   ],
   "source": [
    "maoObra = [funcionarios, salarios]\n",
    "maoObra"
   ]
  },
  {
   "cell_type": "markdown",
   "id": "3e846e56",
   "metadata": {},
   "source": [
    "# Criando matrix com valores randomicos"
   ]
  },
  {
   "cell_type": "code",
   "execution_count": 18,
   "id": "3c763808",
   "metadata": {},
   "outputs": [
    {
     "data": {
      "text/plain": [
       "4×3 Matrix{Float64}:\n",
       " 0.775332  0.348542  0.410014\n",
       " 0.359636  0.80976   0.417823\n",
       " 0.348112  0.749524  0.924246\n",
       " 0.432184  0.756623  0.998874"
      ]
     },
     "execution_count": 18,
     "metadata": {},
     "output_type": "execute_result"
    }
   ],
   "source": [
    "matriz_4x3 = rand(4,3)"
   ]
  },
  {
   "cell_type": "code",
   "execution_count": 19,
   "id": "78a3e1a9",
   "metadata": {},
   "outputs": [
    {
     "data": {
      "text/plain": [
       "4×3×2 Array{Float64, 3}:\n",
       "[:, :, 1] =\n",
       " 0.200473  0.34077   0.929039\n",
       " 0.223862  0.437269  0.997693\n",
       " 0.718695  0.252942  0.969085\n",
       " 0.379423  0.254008  0.581331\n",
       "\n",
       "[:, :, 2] =\n",
       " 0.286     0.226903  0.803261\n",
       " 0.199602  0.813446  0.63888\n",
       " 0.249374  0.609482  0.792917\n",
       " 0.396613  0.631928  0.801056"
      ]
     },
     "execution_count": 19,
     "metadata": {},
     "output_type": "execute_result"
    }
   ],
   "source": [
    "#Cria duas matriz 4x3 \n",
    "array_4x3x2 = rand(4,3,2)"
   ]
  },
  {
   "cell_type": "code",
   "execution_count": null,
   "id": "65bbfaa9",
   "metadata": {},
   "outputs": [],
   "source": []
  }
 ],
 "metadata": {
  "kernelspec": {
   "display_name": "Julia 1.10.6",
   "language": "julia",
   "name": "julia-1.10"
  },
  "language_info": {
   "file_extension": ".jl",
   "mimetype": "application/julia",
   "name": "julia",
   "version": "1.10.6"
  }
 },
 "nbformat": 4,
 "nbformat_minor": 5
}
