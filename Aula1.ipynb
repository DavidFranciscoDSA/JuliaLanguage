{
 "cells": [
  {
   "cell_type": "markdown",
   "id": "0b85d9c6",
   "metadata": {},
   "source": [
    "# Linguagem Julia"
   ]
  },
  {
   "cell_type": "code",
   "execution_count": 1,
   "id": "740bdc7f",
   "metadata": {},
   "outputs": [
    {
     "name": "stdout",
     "output_type": "stream",
     "text": [
      "search: \u001b[0m\u001b[1mp\u001b[22m\u001b[0m\u001b[1mr\u001b[22m\u001b[0m\u001b[1mi\u001b[22m\u001b[0m\u001b[1mn\u001b[22m\u001b[0m\u001b[1mt\u001b[22m\u001b[0m\u001b[1ml\u001b[22m\u001b[0m\u001b[1mn\u001b[22m \u001b[0m\u001b[1mp\u001b[22m\u001b[0m\u001b[1mr\u001b[22m\u001b[0m\u001b[1mi\u001b[22m\u001b[0m\u001b[1mn\u001b[22m\u001b[0m\u001b[1mt\u001b[22msty\u001b[0m\u001b[1ml\u001b[22med \u001b[0m\u001b[1mp\u001b[22m\u001b[0m\u001b[1mr\u001b[22m\u001b[0m\u001b[1mi\u001b[22m\u001b[0m\u001b[1mn\u001b[22m\u001b[0m\u001b[1mt\u001b[22m s\u001b[0m\u001b[1mp\u001b[22m\u001b[0m\u001b[1mr\u001b[22m\u001b[0m\u001b[1mi\u001b[22m\u001b[0m\u001b[1mn\u001b[22m\u001b[0m\u001b[1mt\u001b[22m is\u001b[0m\u001b[1mp\u001b[22m\u001b[0m\u001b[1mr\u001b[22m\u001b[0m\u001b[1mi\u001b[22m\u001b[0m\u001b[1mn\u001b[22m\u001b[0m\u001b[1mt\u001b[22m\n",
      "\n"
     ]
    },
    {
     "data": {
      "text/latex": [
       "\\begin{verbatim}\n",
       "println([io::IO], xs...)\n",
       "\\end{verbatim}\n",
       "Print (using \\href{@ref}{\\texttt{print}}) \\texttt{xs} to \\texttt{io} followed by a newline. If \\texttt{io} is not supplied, prints to the default output stream \\href{@ref}{\\texttt{stdout}}.\n",
       "\n",
       "See also \\href{@ref}{\\texttt{printstyled}} to add colors etc.\n",
       "\n",
       "\\section{Examples}\n",
       "\\begin{verbatim}\n",
       "julia> println(\"Hello, world\")\n",
       "Hello, world\n",
       "\n",
       "julia> io = IOBuffer();\n",
       "\n",
       "julia> println(io, \"Hello\", ',', \" world.\")\n",
       "\n",
       "julia> String(take!(io))\n",
       "\"Hello, world.\\n\"\n",
       "\\end{verbatim}\n"
      ],
      "text/markdown": [
       "```\n",
       "println([io::IO], xs...)\n",
       "```\n",
       "\n",
       "Print (using [`print`](@ref)) `xs` to `io` followed by a newline. If `io` is not supplied, prints to the default output stream [`stdout`](@ref).\n",
       "\n",
       "See also [`printstyled`](@ref) to add colors etc.\n",
       "\n",
       "# Examples\n",
       "\n",
       "```jldoctest\n",
       "julia> println(\"Hello, world\")\n",
       "Hello, world\n",
       "\n",
       "julia> io = IOBuffer();\n",
       "\n",
       "julia> println(io, \"Hello\", ',', \" world.\")\n",
       "\n",
       "julia> String(take!(io))\n",
       "\"Hello, world.\\n\"\n",
       "```\n"
      ],
      "text/plain": [
       "\u001b[36m  println([io::IO], xs...)\u001b[39m\n",
       "\n",
       "  Print (using \u001b[36mprint\u001b[39m) \u001b[36mxs\u001b[39m to \u001b[36mio\u001b[39m followed by a newline. If \u001b[36mio\u001b[39m is not supplied,\n",
       "  prints to the default output stream \u001b[36mstdout\u001b[39m.\n",
       "\n",
       "  See also \u001b[36mprintstyled\u001b[39m to add colors etc.\n",
       "\n",
       "\u001b[1m  Examples\u001b[22m\n",
       "\u001b[1m  ≡≡≡≡≡≡≡≡\u001b[22m\n",
       "\n",
       "\u001b[36m  julia> println(\"Hello, world\")\u001b[39m\n",
       "\u001b[36m  Hello, world\u001b[39m\n",
       "\u001b[36m  \u001b[39m\n",
       "\u001b[36m  julia> io = IOBuffer();\u001b[39m\n",
       "\u001b[36m  \u001b[39m\n",
       "\u001b[36m  julia> println(io, \"Hello\", ',', \" world.\")\u001b[39m\n",
       "\u001b[36m  \u001b[39m\n",
       "\u001b[36m  julia> String(take!(io))\u001b[39m\n",
       "\u001b[36m  \"Hello, world.\\n\"\u001b[39m"
      ]
     },
     "execution_count": 1,
     "metadata": {},
     "output_type": "execute_result"
    }
   ],
   "source": [
    "?println"
   ]
  },
  {
   "cell_type": "code",
   "execution_count": 13,
   "id": "b339dd03",
   "metadata": {},
   "outputs": [
    {
     "data": {
      "text/plain": [
       "v\"1.10.6\""
      ]
     },
     "execution_count": 13,
     "metadata": {},
     "output_type": "execute_result"
    }
   ],
   "source": [
    "VERSION"
   ]
  },
  {
   "cell_type": "code",
   "execution_count": 8,
   "id": "8ebdc869",
   "metadata": {},
   "outputs": [
    {
     "name": "stdout",
     "output_type": "stream",
     "text": [
      "C:\\Users\\david\\Desktop\\Formacao_Engenheiro_inteligencia_artificial\\8-DS_e_ML_com_Julia\\JuliaLanguage\r\n"
     ]
    }
   ],
   "source": [
    "# ; → executa uma função direto do sistema operacional\n",
    ";pwd"
   ]
  },
  {
   "cell_type": "markdown",
   "id": "b52f73f3",
   "metadata": {},
   "source": [
    "# Variáveis"
   ]
  },
  {
   "cell_type": "code",
   "execution_count": 20,
   "id": "b9c14748",
   "metadata": {},
   "outputs": [
    {
     "name": "stdout",
     "output_type": "stream",
     "text": [
      "Introdução Linguagem JULIA\n",
      "David Francisco\n",
      "String\n",
      "40 anos\n",
      "Int64\n",
      "84.4\n",
      "Float64\n"
     ]
    }
   ],
   "source": [
    "frase = \"Introdução Linguagem JULIA\"\n",
    "nome = \"David Francisco\"\n",
    "idade = 40\n",
    "peso = 84.4\n",
    "\n",
    "println(frase)\n",
    "println(nome)\n",
    "println(typeof(nome))\n",
    "println(idade, \" anos\")\n",
    "println(typeof(idade))\n",
    "println(peso)\n",
    "println(typeof(peso))"
   ]
  },
  {
   "cell_type": "markdown",
   "id": "9c8c37f7",
   "metadata": {},
   "source": [
    "# Operações Aritmeticas"
   ]
  },
  {
   "cell_type": "code",
   "execution_count": 23,
   "id": "59bdc0a5",
   "metadata": {},
   "outputs": [
    {
     "name": "stdout",
     "output_type": "stream",
     "text": [
      "A soma de 10 e 5 é 15\n",
      "A subtração de 10 por 5 é 5\n",
      "A multiplicação de 10 por 5 é 50\n",
      "A divisão de 10 por 5 é 2.0\n",
      "A potencia de 10 elevado 5 é 100000\n",
      "O modulo de 10 por 5 é 0\n"
     ]
    }
   ],
   "source": [
    "#= \n",
    "Comentarios de \n",
    "varias linhas inicia\n",
    "com hastag+igual\n",
    "e termina com igual+hastag\n",
    "=#\n",
    "# Comentario simples - apenas hastag\n",
    "n1 = 10\n",
    "n2 = 5\n",
    "soma = n1+n2\n",
    "sub = n1-n2\n",
    "mult = n1*n2\n",
    "div = n1/n2\n",
    "pot = n1^n2\n",
    "modulo = n1%n2\n",
    "println(\"A soma de \", n1, \" e \" ,n2, \" é \", soma)\n",
    "println(\"A subtração de \", n1, \" por \" ,n2, \" é \", sub)\n",
    "println(\"A multiplicação de \", n1, \" por \" ,n2, \" é \", mult)\n",
    "println(\"A divisão de \", n1, \" por \" ,n2, \" é \", div)\n",
    "println(\"A potencia de \", n1, \" elevado \" ,n2, \" é \", pot)\n",
    "println(\"O modulo de \", n1, \" por \" ,n2, \" é \", modulo)"
   ]
  },
  {
   "cell_type": "markdown",
   "id": "aabf613c",
   "metadata": {},
   "source": [
    "# String\n",
    "- \"String\"\n",
    "- 'a' → para apenas um caracter\n",
    "- \"\"\"Usado para destaque de \"palavras\" na frase\"\"\""
   ]
  },
  {
   "cell_type": "code",
   "execution_count": 26,
   "id": "46a42aaf",
   "metadata": {},
   "outputs": [
    {
     "name": "stdout",
     "output_type": "stream",
     "text": [
      "String\n",
      "Char\n",
      "String\n"
     ]
    }
   ],
   "source": [
    "println(typeof(\"String\"))\n",
    "println(typeof('a' ))\n",
    "println(typeof( \"\"\"Usado para destaque de \"palavras\" na frase\"\"\"))"
   ]
  },
  {
   "cell_type": "markdown",
   "id": "3a32f9ae",
   "metadata": {},
   "source": [
    "# Interpolação\n",
    "\n",
    "- usa $variavel dentro de aspas duplas"
   ]
  },
  {
   "cell_type": "code",
   "execution_count": 29,
   "id": "39d12c93",
   "metadata": {},
   "outputs": [
    {
     "name": "stdout",
     "output_type": "stream",
     "text": [
      "Olá, Sr David Francisco, 45 anos, após a avaliação seu peso ideal é 77 kilos, você está com 84.4, precisa baixar 7.400000000000006"
     ]
    }
   ],
   "source": [
    "nome = \"David Francisco\"\n",
    "idade = 45\n",
    "peso = 84.4\n",
    "\n",
    "print(\"Olá, Sr $nome, $idade anos, após a avaliação seu peso ideal é 77 kilos, você está com $peso, precisa baixar $(peso-77)\")"
   ]
  },
  {
   "cell_type": "markdown",
   "id": "1ee83034",
   "metadata": {},
   "source": [
    "# Concatenação\n",
    "\n",
    "- Separa com virgula → println(\"A soma de \", n1, \" e \" ,n2, \" é \", soma)"
   ]
  },
  {
   "cell_type": "code",
   "execution_count": null,
   "id": "1cea27ff",
   "metadata": {},
   "outputs": [],
   "source": [
    "n1 = 10\n",
    "n2 = 5\n",
    "soma = n1+n2\n",
    "sub = n1-n2\n",
    "mult = n1*n2\n",
    "div = n1/n2\n",
    "pot = n1^n2\n",
    "modulo = n1%n2\n",
    "println(\"A soma de \", n1, \" e \" ,n2, \" é \", soma)\n",
    "println(\"A subtração de \", n1, \" por \" ,n2, \" é \", sub)\n",
    "println(\"A multiplicação de \", n1, \" por \" ,n2, \" é \", mult)\n",
    "println(\"A divisão de \", n1, \" por \" ,n2, \" é \", div)\n",
    "println(\"A potencia de \", n1, \" elevado \" ,n2, \" é \", pot)\n",
    "println(\"O modulo de \", n1, \" por \" ,n2, \" é \", modulo)"
   ]
  }
 ],
 "metadata": {
  "kernelspec": {
   "display_name": "Julia 1.10.6",
   "language": "julia",
   "name": "julia-1.10"
  },
  "language_info": {
   "file_extension": ".jl",
   "mimetype": "application/julia",
   "name": "julia",
   "version": "1.10.6"
  }
 },
 "nbformat": 4,
 "nbformat_minor": 5
}
