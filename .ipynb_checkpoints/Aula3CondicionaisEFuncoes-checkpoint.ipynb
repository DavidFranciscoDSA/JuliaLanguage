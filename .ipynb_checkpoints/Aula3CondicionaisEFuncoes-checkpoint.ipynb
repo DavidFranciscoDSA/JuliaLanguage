{
 "cells": [
  {
   "cell_type": "markdown",
   "id": "46747dcf",
   "metadata": {},
   "source": [
    "# Condicionais"
   ]
  },
  {
   "cell_type": "code",
   "execution_count": 12,
   "id": "69872f6a",
   "metadata": {},
   "outputs": [
    {
     "name": "stdout",
     "output_type": "stream",
     "text": [
      "Reprovado\n"
     ]
    }
   ],
   "source": [
    "nota = 10\n",
    "frequencia = 0.7\n",
    "\n",
    "if frequencia >= 0.75\n",
    "    if nota >= 7\n",
    "        println(\"Aprovado\")\n",
    "    elseif nota >= 6\n",
    "        println(\"Recuperação\")\n",
    "    else\n",
    "        println(\"Reprovado\")\n",
    "    end\n",
    "else \n",
    "    println(\"Reprovado\")\n",
    "end"
   ]
  },
  {
   "cell_type": "markdown",
   "id": "d6ff6b14",
   "metadata": {},
   "source": [
    "# Operador ternario"
   ]
  },
  {
   "cell_type": "code",
   "execution_count": 15,
   "id": "96d20bb2",
   "metadata": {},
   "outputs": [
    {
     "name": "stdout",
     "output_type": "stream",
     "text": [
      "Você tem 17 anos, não poderá entrar\n"
     ]
    }
   ],
   "source": [
    "idade = 17\n",
    "(idade >= 18) ? println(\"Você já tem $idade anos, pode entrar\") : println(\"Você tem $idade anos, não poderá entrar\")"
   ]
  },
  {
   "cell_type": "markdown",
   "id": "47fc42e2",
   "metadata": {},
   "source": [
    "## Faça um programa que imprima os numeros impares e multiplos de 5 de 1 a 100"
   ]
  },
  {
   "cell_type": "code",
   "execution_count": 21,
   "id": "26c85a1c",
   "metadata": {},
   "outputs": [
    {
     "name": "stdout",
     "output_type": "stream",
     "text": [
      "3\n",
      "9\n",
      "15\n",
      "21\n",
      "27\n",
      "33\n",
      "39\n",
      "45\n",
      "51\n",
      "57\n",
      "63\n",
      "69\n",
      "75\n",
      "81\n",
      "87\n",
      "93\n",
      "99\n"
     ]
    }
   ],
   "source": [
    "for n in 1:100\n",
    "    if (n % 2 == 1) && (n % 3 == 0)\n",
    "        println(n)\n",
    "    end\n",
    "end\n"
   ]
  },
  {
   "cell_type": "markdown",
   "id": "f82fcbee",
   "metadata": {},
   "source": [
    "# Funções"
   ]
  },
  {
   "cell_type": "code",
   "execution_count": 24,
   "id": "42ac4829",
   "metadata": {},
   "outputs": [
    {
     "data": {
      "text/plain": [
       "tabuada (generic function with 1 method)"
      ]
     },
     "execution_count": 24,
     "metadata": {},
     "output_type": "execute_result"
    }
   ],
   "source": [
    "function tabuada(x)\n",
    "    println(\"TABUADA DO $x\")\n",
    "    for n in 1:10\n",
    "        println(\"$n x $x = $(n*x)\")\n",
    "    end\n",
    "end"
   ]
  },
  {
   "cell_type": "code",
   "execution_count": 26,
   "id": "35748a71",
   "metadata": {},
   "outputs": [
    {
     "name": "stdout",
     "output_type": "stream",
     "text": [
      "TABUADA DO 7\n",
      "1 x 7 = 7\n",
      "2 x 7 = 14\n",
      "3 x 7 = 21\n",
      "4 x 7 = 28\n",
      "5 x 7 = 35\n",
      "6 x 7 = 42\n",
      "7 x 7 = 49\n",
      "8 x 7 = 56\n",
      "9 x 7 = 63\n",
      "10 x 7 = 70\n"
     ]
    }
   ],
   "source": [
    "tabuada(7)"
   ]
  },
  {
   "cell_type": "code",
   "execution_count": 28,
   "id": "0f28309c",
   "metadata": {},
   "outputs": [
    {
     "data": {
      "text/plain": [
       "tabuada2 (generic function with 1 method)"
      ]
     },
     "execution_count": 28,
     "metadata": {},
     "output_type": "execute_result"
    }
   ],
   "source": [
    "tabuada2(x) = [println(\"$n x $x = $(n * x)\") for n in 1:10]\n"
   ]
  },
  {
   "cell_type": "code",
   "execution_count": 29,
   "id": "1fc895a3",
   "metadata": {},
   "outputs": [
    {
     "name": "stdout",
     "output_type": "stream",
     "text": [
      "1 x 5 = 5\n",
      "2 x 5 = 10\n",
      "3 x 5 = 15\n",
      "4 x 5 = 20\n",
      "5 x 5 = 25\n",
      "6 x 5 = 30\n",
      "7 x 5 = 35\n",
      "8 x 5 = 40\n",
      "9 x 5 = 45\n",
      "10 x 5 = 50\n"
     ]
    },
    {
     "data": {
      "text/plain": [
       "10-element Vector{Nothing}:\n",
       " nothing\n",
       " nothing\n",
       " nothing\n",
       " nothing\n",
       " nothing\n",
       " nothing\n",
       " nothing\n",
       " nothing\n",
       " nothing\n",
       " nothing"
      ]
     },
     "execution_count": 29,
     "metadata": {},
     "output_type": "execute_result"
    }
   ],
   "source": [
    "tabuada2(5)"
   ]
  },
  {
   "cell_type": "markdown",
   "id": "6720b229",
   "metadata": {},
   "source": [
    "# Funções built in"
   ]
  },
  {
   "cell_type": "code",
   "execution_count": 30,
   "id": "a60fb0b0",
   "metadata": {},
   "outputs": [
    {
     "data": {
      "text/plain": [
       "5-element Vector{Int64}:\n",
       "  3\n",
       " 11\n",
       " 45\n",
       " 39\n",
       " 17"
      ]
     },
     "execution_count": 30,
     "metadata": {},
     "output_type": "execute_result"
    }
   ],
   "source": [
    "idades = [3,11,45,39,17]\n",
    "idades"
   ]
  },
  {
   "cell_type": "code",
   "execution_count": 33,
   "id": "7dfccdfc",
   "metadata": {},
   "outputs": [
    {
     "data": {
      "text/plain": [
       "5-element Vector{Int64}:\n",
       "  3\n",
       " 11\n",
       " 17\n",
       " 39\n",
       " 45"
      ]
     },
     "execution_count": 33,
     "metadata": {},
     "output_type": "execute_result"
    }
   ],
   "source": [
    "sort!(idades)"
   ]
  },
  {
   "cell_type": "code",
   "execution_count": 42,
   "id": "0e51bc79",
   "metadata": {},
   "outputs": [
    {
     "name": "stdout",
     "output_type": "stream",
     "text": [
      "TABUADA DO 1\n",
      "1 x 1 = 1\n",
      "2 x 1 = 2\n",
      "3 x 1 = 3\n",
      "4 x 1 = 4\n",
      "5 x 1 = 5\n",
      "6 x 1 = 6\n",
      "7 x 1 = 7\n",
      "8 x 1 = 8\n",
      "9 x 1 = 9\n",
      "10 x 1 = 10\n",
      "TABUADA DO 2\n",
      "1 x 2 = 2\n",
      "2 x 2 = 4\n",
      "3 x 2 = 6\n",
      "4 x 2 = 8\n",
      "5 x 2 = 10\n",
      "6 x 2 = 12\n",
      "7 x 2 = 14\n",
      "8 x 2 = 16\n",
      "9 x 2 = 18\n",
      "10 x 2 = 20\n",
      "TABUADA DO 4\n",
      "1 x 4 = 4\n",
      "2 x 4 = 8\n",
      "3 x 4 = 12\n",
      "4 x 4 = 16\n",
      "5 x 4 = 20\n",
      "6 x 4 = 24\n",
      "7 x 4 = 28\n",
      "8 x 4 = 32\n",
      "9 x 4 = 36\n",
      "10 x 4 = 40\n",
      "TABUADA DO 6\n",
      "1 x 6 = 6\n",
      "2 x 6 = 12\n",
      "3 x 6 = 18\n",
      "4 x 6 = 24\n",
      "5 x 6 = 30\n",
      "6 x 6 = 36\n",
      "7 x 6 = 42\n",
      "8 x 6 = 48\n",
      "9 x 6 = 54\n",
      "10 x 6 = 60\n",
      "TABUADA DO 8\n",
      "1 x 8 = 8\n",
      "2 x 8 = 16\n",
      "3 x 8 = 24\n",
      "4 x 8 = 32\n",
      "5 x 8 = 40\n",
      "6 x 8 = 48\n",
      "7 x 8 = 56\n",
      "8 x 8 = 64\n",
      "9 x 8 = 72\n",
      "10 x 8 = 80\n"
     ]
    },
    {
     "data": {
      "text/plain": [
       "5-element Vector{Nothing}:\n",
       " nothing\n",
       " nothing\n",
       " nothing\n",
       " nothing\n",
       " nothing"
      ]
     },
     "execution_count": 42,
     "metadata": {},
     "output_type": "execute_result"
    }
   ],
   "source": [
    "tab = [1,2,4,6,8]\n",
    "map(tabuada,tab)"
   ]
  },
  {
   "cell_type": "markdown",
   "id": "fc5d490a",
   "metadata": {},
   "source": [
    "# funçao in line - é executada sem um nome"
   ]
  },
  {
   "cell_type": "code",
   "execution_count": 43,
   "id": "85c74edf",
   "metadata": {},
   "outputs": [
    {
     "data": {
      "text/plain": [
       "5-element Vector{Int64}:\n",
       "  1\n",
       "  4\n",
       " 16\n",
       " 36\n",
       " 64"
      ]
     },
     "execution_count": 43,
     "metadata": {},
     "output_type": "execute_result"
    }
   ],
   "source": [
    "map(x -> x^2, tab)"
   ]
  },
  {
   "cell_type": "markdown",
   "id": "752a2e05",
   "metadata": {},
   "source": [
    "# Calculo de matrizes"
   ]
  },
  {
   "cell_type": "code",
   "execution_count": 44,
   "id": "adf0df94",
   "metadata": {},
   "outputs": [
    {
     "name": "stdout",
     "output_type": "stream",
     "text": [
      "[5 5 4; 1 3 4; 1 1 1]\n",
      "[2, 2, 2]\n"
     ]
    }
   ],
   "source": [
    "a = rand(1:5,3,3)\n",
    "b = fill(2, (3,))\n",
    "println(a)\n",
    "println(b)"
   ]
  },
  {
   "cell_type": "code",
   "execution_count": 45,
   "id": "ab436f9c",
   "metadata": {},
   "outputs": [
    {
     "data": {
      "text/plain": [
       "3-element Vector{Int64}:\n",
       " 28\n",
       " 16\n",
       "  6"
      ]
     },
     "execution_count": 45,
     "metadata": {},
     "output_type": "execute_result"
    }
   ],
   "source": [
    "x = a * b\n"
   ]
  },
  {
   "cell_type": "markdown",
   "id": "84955cd2",
   "metadata": {},
   "source": [
    "- 28 → 5*2 + 5*2 + 4*2\n",
    "- 16 → 1*2 + 3*2 + 4*2\n",
    "- 6  → 1*2 + 1*2 + 1*2"
   ]
  },
  {
   "cell_type": "markdown",
   "id": "61c41240",
   "metadata": {},
   "source": [
    "# Transposição de matriz \n",
    "- transpose(variavel da matriz)\n",
    "- variavel da matriz'"
   ]
  },
  {
   "cell_type": "code",
   "execution_count": 46,
   "id": "d45c1a22",
   "metadata": {},
   "outputs": [
    {
     "data": {
      "text/plain": [
       "3×3 transpose(::Matrix{Int64}) with eltype Int64:\n",
       " 5  1  1\n",
       " 5  3  1\n",
       " 4  4  1"
      ]
     },
     "execution_count": 46,
     "metadata": {},
     "output_type": "execute_result"
    }
   ],
   "source": [
    "transpose(a)"
   ]
  },
  {
   "cell_type": "code",
   "execution_count": 47,
   "id": "f000c9d8",
   "metadata": {},
   "outputs": [
    {
     "data": {
      "text/plain": [
       "3×3 adjoint(::Matrix{Int64}) with eltype Int64:\n",
       " 5  1  1\n",
       " 5  3  1\n",
       " 4  4  1"
      ]
     },
     "execution_count": 47,
     "metadata": {},
     "output_type": "execute_result"
    }
   ],
   "source": [
    "a'"
   ]
  },
  {
   "cell_type": "markdown",
   "id": "3e805150",
   "metadata": {},
   "source": [
    "### Transposição da matriz a multiplicado pela matriz a original"
   ]
  },
  {
   "cell_type": "code",
   "execution_count": 48,
   "id": "2b247daf",
   "metadata": {},
   "outputs": [
    {
     "data": {
      "text/plain": [
       "3×3 Matrix{Int64}:\n",
       " 27  29  25\n",
       " 29  35  33\n",
       " 25  33  33"
      ]
     },
     "execution_count": 48,
     "metadata": {},
     "output_type": "execute_result"
    }
   ],
   "source": [
    "a'a"
   ]
  },
  {
   "cell_type": "code",
   "execution_count": null,
   "id": "189614d2",
   "metadata": {},
   "outputs": [],
   "source": []
  }
 ],
 "metadata": {
  "kernelspec": {
   "display_name": "Julia 1.10.6",
   "language": "julia",
   "name": "julia-1.10"
  },
  "language_info": {
   "file_extension": ".jl",
   "mimetype": "application/julia",
   "name": "julia",
   "version": "1.10.6"
  }
 },
 "nbformat": 4,
 "nbformat_minor": 5
}
